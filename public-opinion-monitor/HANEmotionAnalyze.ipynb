{
 "cells": [
  {
   "cell_type": "code",
   "execution_count": 2,
   "metadata": {
    "collapsed": true,
    "pycharm": {
     "is_executing": false
    }
   },
   "outputs": [],
   "source": [
    "import HANEmotionAnalyze\n",
    "import torch\n",
    "import torch.nn as nn\n",
    "import numpy\n",
    "import time, math\n",
    "import torch.utils.data as data\n",
    "import os\n",
    "import pandas as pd\n",
    "import json"
   ]
  },
  {
   "cell_type": "code",
   "execution_count": 40,
   "outputs": [
    {
     "name": "stdout",
     "text": [
      "tensor([[[-1.5965, -0.9941, -1.0904],\n",
      "         [-1.4114,  0.0909,  0.0148],\n",
      "         [ 0.2988, -0.1281,  0.6925],\n",
      "         [-0.0844, -0.1438, -0.2450],\n",
      "         [ 1.0504,  0.0801,  0.0100]],\n",
      "\n",
      "        [[-1.4114,  0.0909,  0.0148],\n",
      "         [-0.0844, -0.1438, -0.2450],\n",
      "         [-1.3671,  0.0224, -0.5346],\n",
      "         [ 0.2988, -0.1281,  0.6925],\n",
      "         [ 0.9043,  1.6222,  0.1734]]], grad_fn=<EmbeddingBackward>)\n",
      "tensor([[[ 0.4042,  0.2497,  0.0539],\n",
      "         [-1.0418,  1.9081, -0.5941],\n",
      "         [ 0.0000,  0.0000,  0.0000],\n",
      "         [-1.3613, -0.4405,  1.8863],\n",
      "         [ 0.0070, -0.1125,  0.9169]],\n",
      "\n",
      "        [[-1.0418,  1.9081, -0.5941],\n",
      "         [-1.3613, -0.4405,  1.8863],\n",
      "         [ 1.1158,  0.7866, -0.4034],\n",
      "         [ 0.0000,  0.0000,  0.0000],\n",
      "         [ 0.0027, -2.0208,  0.3357]]], grad_fn=<EmbeddingBackward>)\n",
      "tensor([[4.0000, 5.1000, 6.3000]])\n",
      "tensor([[1.0000, 2.3000, 3.0000]])\n"
     ],
     "output_type": "stream"
    }
   ],
   "source": [
    "# import torch.functional as F\n",
    "# \n",
    "embedding = nn.Embedding(10, 3)\n",
    "input = torch.LongTensor([[0, 1,2,4,5],[1, 4,3,2,9]])\n",
    "print(embedding(input))\n",
    "embedding2 = nn.Embedding(10, 3, padding_idx=2)\n",
    "# input = torch.LongTensor([[1,2,0,5, 6,7,8,9]])\n",
    "print(embedding2(input))\n",
    "weight = torch.FloatTensor([[1, 2.3, 3], [4, 5.1, 6.3]])\n",
    "embedding3 = nn.Embedding.from_pretrained(weight)\n",
    "input = torch.LongTensor([1])\n",
    "print(embedding3(input))\n",
    "input = torch.LongTensor([0])\n",
    "print(embedding3(input))"
   ],
   "metadata": {
    "collapsed": false,
    "pycharm": {
     "name": "#%%\n",
     "is_executing": false
    }
   }
  },
  {
   "cell_type": "code",
   "execution_count": 2,
   "outputs": [
    {
     "traceback": [
      "\u001b[1;31m---------------------------------------------------------------------------\u001b[0m",
      "\u001b[1;31mRuntimeError\u001b[0m                              Traceback (most recent call last)",
      "\u001b[1;32m<ipython-input-2-aabbfdd85fdc>\u001b[0m in \u001b[0;36m<module>\u001b[1;34m\u001b[0m\n\u001b[0;32m      2\u001b[0m \u001b[0membed\u001b[0m \u001b[1;33m=\u001b[0m \u001b[0mnn\u001b[0m\u001b[1;33m.\u001b[0m\u001b[0mEmbedding\u001b[0m\u001b[1;33m(\u001b[0m\u001b[0mnum_embeddings\u001b[0m\u001b[1;33m,\u001b[0m \u001b[0membedding_dim\u001b[0m\u001b[1;33m,\u001b[0m \u001b[1;36m0\u001b[0m\u001b[1;33m)\u001b[0m\u001b[1;33m\u001b[0m\u001b[1;33m\u001b[0m\u001b[0m\n\u001b[0;32m      3\u001b[0m \u001b[0mone\u001b[0m \u001b[1;33m=\u001b[0m \u001b[0mtorch\u001b[0m\u001b[1;33m.\u001b[0m\u001b[0mfrom_numpy\u001b[0m\u001b[1;33m(\u001b[0m\u001b[0mnumpy\u001b[0m\u001b[1;33m.\u001b[0m\u001b[0marange\u001b[0m\u001b[1;33m(\u001b[0m\u001b[1;36m1\u001b[0m\u001b[1;33m,\u001b[0m\u001b[1;36m10\u001b[0m\u001b[1;33m)\u001b[0m\u001b[1;33m)\u001b[0m\u001b[1;33m\u001b[0m\u001b[1;33m\u001b[0m\u001b[0m\n\u001b[1;32m----> 4\u001b[1;33m \u001b[0membed\u001b[0m\u001b[1;33m(\u001b[0m\u001b[0mone\u001b[0m\u001b[1;33m)\u001b[0m\u001b[1;33m\u001b[0m\u001b[1;33m\u001b[0m\u001b[0m\n\u001b[0m",
      "\u001b[1;32m~\\.conda\\envs\\pytorch\\lib\\site-packages\\torch\\nn\\modules\\module.py\u001b[0m in \u001b[0;36m__call__\u001b[1;34m(self, *input, **kwargs)\u001b[0m\n\u001b[0;32m    530\u001b[0m             \u001b[0mresult\u001b[0m \u001b[1;33m=\u001b[0m \u001b[0mself\u001b[0m\u001b[1;33m.\u001b[0m\u001b[0m_slow_forward\u001b[0m\u001b[1;33m(\u001b[0m\u001b[1;33m*\u001b[0m\u001b[0minput\u001b[0m\u001b[1;33m,\u001b[0m \u001b[1;33m**\u001b[0m\u001b[0mkwargs\u001b[0m\u001b[1;33m)\u001b[0m\u001b[1;33m\u001b[0m\u001b[1;33m\u001b[0m\u001b[0m\n\u001b[0;32m    531\u001b[0m         \u001b[1;32melse\u001b[0m\u001b[1;33m:\u001b[0m\u001b[1;33m\u001b[0m\u001b[1;33m\u001b[0m\u001b[0m\n\u001b[1;32m--> 532\u001b[1;33m             \u001b[0mresult\u001b[0m \u001b[1;33m=\u001b[0m \u001b[0mself\u001b[0m\u001b[1;33m.\u001b[0m\u001b[0mforward\u001b[0m\u001b[1;33m(\u001b[0m\u001b[1;33m*\u001b[0m\u001b[0minput\u001b[0m\u001b[1;33m,\u001b[0m \u001b[1;33m**\u001b[0m\u001b[0mkwargs\u001b[0m\u001b[1;33m)\u001b[0m\u001b[1;33m\u001b[0m\u001b[1;33m\u001b[0m\u001b[0m\n\u001b[0m\u001b[0;32m    533\u001b[0m         \u001b[1;32mfor\u001b[0m \u001b[0mhook\u001b[0m \u001b[1;32min\u001b[0m \u001b[0mself\u001b[0m\u001b[1;33m.\u001b[0m\u001b[0m_forward_hooks\u001b[0m\u001b[1;33m.\u001b[0m\u001b[0mvalues\u001b[0m\u001b[1;33m(\u001b[0m\u001b[1;33m)\u001b[0m\u001b[1;33m:\u001b[0m\u001b[1;33m\u001b[0m\u001b[1;33m\u001b[0m\u001b[0m\n\u001b[0;32m    534\u001b[0m             \u001b[0mhook_result\u001b[0m \u001b[1;33m=\u001b[0m \u001b[0mhook\u001b[0m\u001b[1;33m(\u001b[0m\u001b[0mself\u001b[0m\u001b[1;33m,\u001b[0m \u001b[0minput\u001b[0m\u001b[1;33m,\u001b[0m \u001b[0mresult\u001b[0m\u001b[1;33m)\u001b[0m\u001b[1;33m\u001b[0m\u001b[1;33m\u001b[0m\u001b[0m\n",
      "\u001b[1;32m~\\.conda\\envs\\pytorch\\lib\\site-packages\\torch\\nn\\modules\\sparse.py\u001b[0m in \u001b[0;36mforward\u001b[1;34m(self, input)\u001b[0m\n\u001b[0;32m    112\u001b[0m         return F.embedding(\n\u001b[0;32m    113\u001b[0m             \u001b[0minput\u001b[0m\u001b[1;33m,\u001b[0m \u001b[0mself\u001b[0m\u001b[1;33m.\u001b[0m\u001b[0mweight\u001b[0m\u001b[1;33m,\u001b[0m \u001b[0mself\u001b[0m\u001b[1;33m.\u001b[0m\u001b[0mpadding_idx\u001b[0m\u001b[1;33m,\u001b[0m \u001b[0mself\u001b[0m\u001b[1;33m.\u001b[0m\u001b[0mmax_norm\u001b[0m\u001b[1;33m,\u001b[0m\u001b[1;33m\u001b[0m\u001b[1;33m\u001b[0m\u001b[0m\n\u001b[1;32m--> 114\u001b[1;33m             self.norm_type, self.scale_grad_by_freq, self.sparse)\n\u001b[0m\u001b[0;32m    115\u001b[0m \u001b[1;33m\u001b[0m\u001b[0m\n\u001b[0;32m    116\u001b[0m     \u001b[1;32mdef\u001b[0m \u001b[0mextra_repr\u001b[0m\u001b[1;33m(\u001b[0m\u001b[0mself\u001b[0m\u001b[1;33m)\u001b[0m\u001b[1;33m:\u001b[0m\u001b[1;33m\u001b[0m\u001b[1;33m\u001b[0m\u001b[0m\n",
      "\u001b[1;32m~\\.conda\\envs\\pytorch\\lib\\site-packages\\torch\\nn\\functional.py\u001b[0m in \u001b[0;36membedding\u001b[1;34m(input, weight, padding_idx, max_norm, norm_type, scale_grad_by_freq, sparse)\u001b[0m\n\u001b[0;32m   1482\u001b[0m         \u001b[1;31m# remove once script supports set_grad_enabled\u001b[0m\u001b[1;33m\u001b[0m\u001b[1;33m\u001b[0m\u001b[1;33m\u001b[0m\u001b[0m\n\u001b[0;32m   1483\u001b[0m         \u001b[0m_no_grad_embedding_renorm_\u001b[0m\u001b[1;33m(\u001b[0m\u001b[0mweight\u001b[0m\u001b[1;33m,\u001b[0m \u001b[0minput\u001b[0m\u001b[1;33m,\u001b[0m \u001b[0mmax_norm\u001b[0m\u001b[1;33m,\u001b[0m \u001b[0mnorm_type\u001b[0m\u001b[1;33m)\u001b[0m\u001b[1;33m\u001b[0m\u001b[1;33m\u001b[0m\u001b[0m\n\u001b[1;32m-> 1484\u001b[1;33m     \u001b[1;32mreturn\u001b[0m \u001b[0mtorch\u001b[0m\u001b[1;33m.\u001b[0m\u001b[0membedding\u001b[0m\u001b[1;33m(\u001b[0m\u001b[0mweight\u001b[0m\u001b[1;33m,\u001b[0m \u001b[0minput\u001b[0m\u001b[1;33m,\u001b[0m \u001b[0mpadding_idx\u001b[0m\u001b[1;33m,\u001b[0m \u001b[0mscale_grad_by_freq\u001b[0m\u001b[1;33m,\u001b[0m \u001b[0msparse\u001b[0m\u001b[1;33m)\u001b[0m\u001b[1;33m\u001b[0m\u001b[1;33m\u001b[0m\u001b[0m\n\u001b[0m\u001b[0;32m   1485\u001b[0m \u001b[1;33m\u001b[0m\u001b[0m\n\u001b[0;32m   1486\u001b[0m \u001b[1;33m\u001b[0m\u001b[0m\n",
      "\u001b[1;31mRuntimeError\u001b[0m: Expected tensor for argument #1 'indices' to have scalar type Long; but got torch.IntTensor instead (while checking arguments for embedding)"
     ],
     "ename": "RuntimeError",
     "evalue": "Expected tensor for argument #1 'indices' to have scalar type Long; but got torch.IntTensor instead (while checking arguments for embedding)",
     "output_type": "error"
    }
   ],
   "source": [
    "# num_embeddings, embedding_dim = 5845, 200\n",
    "# embed = nn.Embedding(num_embeddings, embedding_dim, 0)\n",
    "# one = torch.from_numpy(numpy.arange(1,10))\n",
    "# embed(one)"
   ],
   "metadata": {
    "collapsed": false,
    "pycharm": {
     "name": "#%%\n",
     "is_executing": false
    }
   }
  },
  {
   "cell_type": "code",
   "execution_count": null,
   "outputs": [],
   "source": [
    "\n",
    "# def isNan(a):\n",
    "#     return a != a\n",
    "\n",
    "# class RatingData4Bert(data.Dataset):\n",
    "#     def __init__(self, path, tokenizer:Tokenizer, max_row = -1, trainTestRate = 0.85, isTrain = True):\n",
    "#         self.token_list = []\n",
    "#         self.label_list = []\n",
    "#         self.token_positions = torch.tensor([i for i in range(100)])\n",
    "# \n",
    "#         print('地址不应该包含 ratings.csv   path:',path) # 地址不应该包含 ratings.csv\n",
    "# \n",
    "#         ratings_clean_filename = os.path.join(path, 'ratings_clean.csv')\n",
    "#         ratings_filename = os.path.join(path, 'ratings.csv')\n",
    "#         if os.path.isfile(ratings_clean_filename):\n",
    "#             clean_pd = pd.read_csv(ratings_clean_filename)\n",
    "#         else:\n",
    "#             print('没有找到缓存的文件%s, 读取源文件%s'%(ratings_clean_filename, ratings_filename))\n",
    "#             ratings_pd = pd.read_csv(ratings_filename)\n",
    "#             print('开始生成缓存文件%s'%(ratings_clean_filename))\n",
    "#             clean_pd = pd.DataFrame({\n",
    "#                 'userId':[],\n",
    "#                 'restId':[],\n",
    "#                 'rating':[],\n",
    "#                 'comment':[],\n",
    "#             })\n",
    "#             nonRatingCount = 0\n",
    "#             for i, row in ratings_pd.iterrows():\n",
    "#                 if max_row != -1 and i > max_row:\n",
    "#                     break\n",
    "#                 if not isinstance(row['comment'], str) or row['comment'] == '':\n",
    "#                     # print(i + 1, row['comment'])\n",
    "#                     nonRatingCount += 1\n",
    "#                     continue\n",
    "#                 r0 = row['rating']\n",
    "#                 r1 = row['rating_env']\n",
    "#                 r2 = row['rating_flavor']\n",
    "#                 r3 = row['rating_service']\n",
    "#                 if r0 == '' or isNan(r0): r0 = 0 # 假设总评分为 0 表示未评分\n",
    "#                 if r1 == '' or isNan(r1): r1 = 3\n",
    "#                 if r2 == '' or isNan(r2): r2 = 3\n",
    "#                 if r3 == '' or isNan(r3): r3 = 3\n",
    "#                 r0 = round(r0 * 0.5 + (r1 + r2 + r3) * 0.1666666)\n",
    "#                 if i % 10000 == 9999:\n",
    "#                     print(i + 1, r0)\n",
    "# \n",
    "#                 token = tokenizer.encode(text=str(row['comment']), max_length=100, pad_to_max_length = True)\n",
    "#                 # print('token', token)\n",
    "#                 # token = [101] + token + [102]\n",
    "# \n",
    "#                 newRow = DotDict()\n",
    "#                 newRow.userId = [row['userId']]\n",
    "#                 newRow.restId = [row['restId']]\n",
    "#                 newRow.rating = [r0]\n",
    "#                 newRow.comment = [json.dumps(token)]\n",
    "# \n",
    "#                 clean_pd = clean_pd.append(pd.DataFrame(newRow), ignore_index=True)\n",
    "#             print('空的评论数量： %d'%(nonRatingCount))\n",
    "#             clean_pd.to_csv(ratings_clean_filename)\n",
    "# \n",
    "#         # 读取\n",
    "#         if isTrain:\n",
    "#             temp_pd = clean_pd[ : int(len(clean_pd) * trainTestRate)]\n",
    "#         else:\n",
    "#             temp_pd = clean_pd[int(len(clean_pd) * trainTestRate) : ]\n",
    "# \n",
    "#         for i, row in temp_pd.iterrows():\n",
    "#             if max_row != -1 and i > max_row:\n",
    "#                 break\n",
    "# \n",
    "#             self.label_list.append(torch.tensor(row['rating']).long())\n",
    "#             self.token_list.append(torch.from_numpy(numpy.array( json.loads(row['comment']) ) ).long())\n",
    "# \n",
    "#     def __getitem__(self, index):\n",
    "#         # print(self.token_list[index], self.label_list[index], self.token_positions)\n",
    "#         return self.token_list[index], self.label_list[index], self.token_positions\n",
    "# \n",
    "#     def __len__(self):\n",
    "#         return len(self.label_list)\n",
    "    "
   ],
   "metadata": {
    "collapsed": false,
    "pycharm": {
     "name": "#%%\n"
    }
   }
  },
  {
   "cell_type": "code",
   "execution_count": null,
   "outputs": [],
   "source": [
    "\n",
    "\n",
    "\n",
    "\n",
    "\n",
    "\n",
    "\n",
    "\n",
    "\n",
    "\n",
    "\n",
    "\n",
    "\n",
    "\n",
    "\n",
    "\n",
    "\n",
    "\n",
    "\n",
    "\n",
    "\n",
    "\n",
    "\n",
    "\n"
   ],
   "metadata": {
    "collapsed": false,
    "pycharm": {
     "name": "#%%\n"
    }
   }
  }
 ],
 "metadata": {
  "kernelspec": {
   "display_name": "Python 3",
   "language": "python",
   "name": "python3"
  },
  "language_info": {
   "codemirror_mode": {
    "name": "ipython",
    "version": 2
   },
   "file_extension": ".py",
   "mimetype": "text/x-python",
   "name": "python",
   "nbconvert_exporter": "python",
   "pygments_lexer": "ipython2",
   "version": "2.7.6"
  },
  "pycharm": {
   "stem_cell": {
    "cell_type": "raw",
    "source": [],
    "metadata": {
     "collapsed": false
    }
   }
  }
 },
 "nbformat": 4,
 "nbformat_minor": 0
}