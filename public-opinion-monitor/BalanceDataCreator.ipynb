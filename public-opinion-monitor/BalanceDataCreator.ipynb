{
 "cells": [
  {
   "cell_type": "code",
   "execution_count": 1,
   "outputs": [],
   "source": [
    "import pandas as pd\n",
    "import os\n",
    "import random"
   ],
   "metadata": {
    "collapsed": false,
    "pycharm": {
     "name": "#%%\n",
     "is_executing": false
    }
   }
  },
  {
   "cell_type": "code",
   "execution_count": 7,
   "outputs": [],
   "source": [
    "path = '../../DataSets/yf_dianping'\n",
    "ratings_filename = os.path.join(path, 'ratings.csv')\n",
    "balance_data_means_filename = os.path.join(path, 'balance_data_means_600000.csv')"
   ],
   "metadata": {
    "collapsed": false,
    "pycharm": {
     "name": "#%%\n",
     "is_executing": false
    }
   }
  },
  {
   "cell_type": "code",
   "execution_count": 3,
   "outputs": [],
   "source": [
    "dataframe = pd.read_csv(ratings_filename)"
   ],
   "metadata": {
    "collapsed": false,
    "pycharm": {
     "name": "#%%\n",
     "is_executing": false
    }
   }
  },
  {
   "cell_type": "code",
   "execution_count": 11,
   "outputs": [
    {
     "name": "stdout",
     "text": [
      "Index(['userId', 'restId', 'rating', 'rating_env', 'rating_flavor',\n",
      "       'rating_service', 'timestamp', 'comment'],\n",
      "      dtype='object')\n",
      "3    3\n",
      "4    4\n",
      "5    5\n",
      "6    6\n",
      "7    7\n",
      "8    8\n",
      "9    9\n",
      "Name: userId, dtype: int64\n",
      "3    0\n",
      "4    0\n",
      "5    0\n",
      "6    0\n",
      "7    0\n",
      "8    0\n",
      "9    0\n",
      "Name: restId, dtype: int64\n",
      "3    NaN\n",
      "4    NaN\n",
      "5    NaN\n",
      "6    4.0\n",
      "7    NaN\n",
      "8    4.0\n",
      "9    NaN\n",
      "Name: rating, dtype: float64\n",
      "3    3.0\n",
      "4    3.0\n",
      "5    4.0\n",
      "6    4.0\n",
      "7    3.0\n",
      "8    3.0\n",
      "9    5.0\n",
      "Name: rating_env, dtype: float64\n",
      "3    4.0\n",
      "4    4.0\n",
      "5    4.0\n",
      "6    4.0\n",
      "7    3.0\n",
      "8    3.0\n",
      "9    3.0\n",
      "Name: rating_flavor, dtype: float64\n",
      "3    4.0\n",
      "4    3.0\n",
      "5    3.0\n",
      "6    3.0\n",
      "7    2.0\n",
      "8    3.0\n",
      "9    2.0\n",
      "Name: rating_service, dtype: float64\n",
      "3 0\n",
      "4 0\n",
      "5 0\n",
      "6 0\n",
      "7 0\n",
      "8 0\n",
      "9 0\n"
     ],
     "output_type": "stream"
    }
   ],
   "source": [
    "print(dataframe.columns)\n",
    "print(dataframe.iloc[3:10,0])\n",
    "print(dataframe.iloc[3:10,1])\n",
    "print(dataframe.iloc[3:10,2])\n",
    "print(dataframe.iloc[3:10,3])\n",
    "print(dataframe.iloc[3:10,4])\n",
    "print(dataframe.iloc[3:10,5])\n",
    "for a,i in zip(dataframe.iloc[3:10,0], dataframe.iloc[3:10,1]):\n",
    "    print(a, i)"
   ],
   "metadata": {
    "collapsed": false,
    "pycharm": {
     "name": "#%%\n",
     "is_executing": false
    }
   }
  },
  {
   "cell_type": "code",
   "execution_count": 4,
   "metadata": {
    "collapsed": true,
    "pycharm": {
     "is_executing": false
    }
   },
   "outputs": [
    {
     "name": "stdout",
     "text": [
      "956208\n",
      "1731092\n",
      "1735173\n"
     ],
     "output_type": "stream"
    }
   ],
   "source": [
    "def isNan(a):\n",
    "    return a != a\n",
    "\n",
    "# corpus_45_data = [a for a,i in zip(dataframe.iloc[:,0], dataframe.iloc[:,1]) if i==0]\n",
    "# corpus_3_data = [a for a,i in zip(dataframe.iloc[:,0], dataframe.iloc[:,1]) if i==1]\n",
    "# corpus_12_data = [a for a,i in zip(dataframe.iloc[:,0], dataframe.iloc[:,1]) if i==-1]\n",
    "# \n",
    "# print(len(corpus_45_data))\n",
    "# print(len(corpus_3_data))\n",
    "# print(len(corpus_12_data))\n",
    "\n",
    "corpus_45_data, corpus_3_data, corpus_12_data = [],[],[]\n",
    "\n",
    "for r0, r1, r2, r3, comment in  zip(  dataframe.iloc[:,2],\n",
    "                                      dataframe.iloc[:,3],\n",
    "                                      dataframe.iloc[:,4],\n",
    "                                      dataframe.iloc[:,5],\n",
    "                                      dataframe.iloc[:,7],\n",
    "                                      ):\n",
    "    if r0 == '' or isNan(r0): r0 = 0 # 假设总评分为 0 表示未评分\n",
    "    if r1 == '' or isNan(r1): r1 = 3\n",
    "    if r2 == '' or isNan(r2): r2 = 3\n",
    "    if r3 == '' or isNan(r3): r3 = 3\n",
    "    r0 = round(r0 * 0.5 + (r1 + r2 + r3) * 0.1666666)\n",
    "    if r0 > 3 : corpus_45_data.append(comment)\n",
    "    if r0 == 3 : corpus_3_data.append(comment)\n",
    "    if r0 < 3 : corpus_12_data.append(comment)\n",
    "    \n",
    "    \n",
    "print(len(corpus_45_data))\n",
    "print(len(corpus_3_data))\n",
    "print(len(corpus_12_data))"
   ]
  },
  {
   "cell_type": "code",
   "execution_count": 5,
   "outputs": [
    {
     "name": "stdout",
     "text": [
      "200000\n",
      "600000\n",
      "600000\n"
     ],
     "output_type": "stream"
    }
   ],
   "source": [
    "# 这个就是按照，三类中数量最少的标签，作为每个类的标签数。标签数比较多的，使用random函数随机抽取\n",
    "num_min = min(len(corpus_45_data), len(corpus_3_data), len(corpus_12_data), 200000)\n",
    "\n",
    "balance_x = random.sample(corpus_12_data, num_min) \\\n",
    "               + random.sample(corpus_45_data, num_min)\\\n",
    "               + random.sample(corpus_3_data, num_min)\n",
    "balance_labels = [-1]*num_min + [1]*num_min + [0]*num_min\n",
    "print(num_min)\n",
    "print(len(balance_x))\n",
    "print(len(balance_labels))"
   ],
   "metadata": {
    "collapsed": false,
    "pycharm": {
     "name": "#%%\n",
     "is_executing": false
    }
   }
  },
  {
   "cell_type": "code",
   "execution_count": 6,
   "outputs": [
    {
     "name": "stdout",
     "text": [
      "                                                data  labels\n",
      "1  原来京师大厦的KTV还没关门的时候，来过一次。跟好朋友两个人，唱歌唱到累，然后到这家店里来聊...      -1\n",
      "2  鷄蛋仔應該係￥6/底咯。\\n喺屋樓下 所以成日吃 仲可以嗌外賣添。\\n喳喳其實得個名 味道非...      -1\n",
      "3  环境一般，味道一般，价格稍贵，我就搞不懂生意为什么那么好！我来餐厅是等了半天，结果只吃了几条...      -1\n",
      "4  环境实在不怎么样。优势就是价格。。。\\n想想老板还是蛮聪明的，把这个饭店做在靠近居民区，环境...      -1\n",
      "5                                                NaN      -1\n",
      "6  菜分量真的很少，没几筷子就见盘底了；味道一般吧，不算很出众；环境也一般般，大厅里很吵……对菜...      -1\n",
      "7  大学四年都在仙林，小爽可没少去了，去了别点酸菜鱼，每个地方的酸菜鱼都是一个味儿，主菜是酸菜不...      -1\n",
      "8  听朋友推荐,特地来尝尝香港著名的鱼蛋粉.\\nLG点的是招牌汤粉.我就点个和他不一样的捞粉,这...      -1\n",
      "9  客户请客 包了4桌 老板们一桌 吃的很HIGH 老板们狂喝酒啊 我们这些小兵当然是自己一桌狂...      -1\n"
     ],
     "output_type": "stream"
    }
   ],
   "source": [
    "balance_data = pd.DataFrame({'data':balance_x, 'labels':balance_labels})\n",
    "print(balance_data[1:10])"
   ],
   "metadata": {
    "collapsed": false,
    "pycharm": {
     "name": "#%%\n",
     "is_executing": false
    }
   }
  },
  {
   "cell_type": "code",
   "execution_count": 8,
   "outputs": [],
   "source": [
    "balance_data.to_csv(balance_data_means_filename)\n"
   ],
   "metadata": {
    "collapsed": false,
    "pycharm": {
     "name": "#%%\n",
     "is_executing": false
    }
   }
  },
  {
   "cell_type": "code",
   "execution_count": null,
   "outputs": [],
   "source": [
    "# 公式平滑出来的标签结果\n",
    "\n",
    "from gensim.models import KeyedVectors\n",
    "\n",
    "model = KeyedVectors.load_word2vec_format('Tencent_AILab_ChineseEmbedding.txt') # 耗时长\n",
    "res = model.most_similar(\"测试\")\n",
    "print(res)\n",
    "\n"
   ],
   "metadata": {
    "collapsed": false,
    "pycharm": {
     "name": "#%%\n"
    }
   }
  }
 ],
 "metadata": {
  "kernelspec": {
   "display_name": "Python 3",
   "language": "python",
   "name": "python3"
  },
  "language_info": {
   "codemirror_mode": {
    "name": "ipython",
    "version": 2
   },
   "file_extension": ".py",
   "mimetype": "text/x-python",
   "name": "python",
   "nbconvert_exporter": "python",
   "pygments_lexer": "ipython2",
   "version": "2.7.6"
  },
  "pycharm": {
   "stem_cell": {
    "cell_type": "raw",
    "source": [],
    "metadata": {
     "collapsed": false
    }
   }
  }
 },
 "nbformat": 4,
 "nbformat_minor": 0
}